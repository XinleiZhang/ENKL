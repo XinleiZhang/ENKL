{
 "cells": [
  {
   "cell_type": "code",
   "execution_count": 1,
   "metadata": {},
   "outputs": [],
   "source": [
    "import os\n",
    "\n",
    "%matplotlib inline \n",
    "import numpy as np\n",
    "import matplotlib.pyplot as plt\n",
    "import scipy.interpolate as interp\n",
    "from dafi.random_field import foam\n",
    "\n",
    "from matplotlib import colors\n",
    "\n",
    "VECTORDIM = 3\n",
    "TENSORSQRTDIM = 3\n",
    "TENSORDIM = 9\n",
    "DEVSYMTENSORDIM = 6\n",
    "DEVSYMTENSOR_INDEX = [0,1,2,4,5,8]\n",
    "\n",
    "nscalar_invariants = 2\n",
    "nbasis_tensors = 4"
   ]
  },
  {
   "cell_type": "code",
   "execution_count": 2,
   "metadata": {},
   "outputs": [],
   "source": [
    "\n",
    "data_dir = 'nnfoam_inputs/data'\n",
    "mesh_shape = [50, 50]\n",
    "ncells = mesh_shape[0]*mesh_shape[1]\n",
    "gradU_t = foam.read_tensor_field(data_dir + '/foam_synthetic_truth/10000/grad(U)')\n",
    "\n",
    "tau_t = foam.read_symmTensor_field(data_dir + '/foam_synthetic_truth' + '/10000/turbulenceProperties_R')\n",
    "U_t = np.zeros([ncells, VECTORDIM])\n",
    "for i, x in enumerate(['x', 'y', 'z']):\n",
    "    U_t[:, i] = np.loadtxt(os.path.join(data_dir, f'U{x}FullField'))"
   ]
  },
  {
   "cell_type": "code",
   "execution_count": 3,
   "metadata": {},
   "outputs": [],
   "source": [
    "U_sample1 = foam.read_vector_field('results_ensemble/sample_0/1/U')\n",
    "U_sample2 = foam.read_vector_field('results_ensemble/sample_1/1/U')"
   ]
  },
  {
   "cell_type": "code",
   "execution_count": 4,
   "metadata": {},
   "outputs": [],
   "source": [
    "\n",
    "values = U_sample1-U_sample2\n",
    "#fig, axs = plt.subplots(3, 2, figsize=((Ncols+0.5)*subfigsize, (Nrows+0.5)*subfigsize))\n",
    "    "
   ]
  },
  {
   "cell_type": "code",
   "execution_count": 5,
   "metadata": {},
   "outputs": [
    {
     "name": "stdout",
     "output_type": "stream",
     "text": [
      "-0.0007399999999999629 0.0014379999999999393\n"
     ]
    }
   ],
   "source": [
    "print(values.min(),values.max())"
   ]
  },
  {
   "cell_type": "code",
   "execution_count": 6,
   "metadata": {},
   "outputs": [
    {
     "ename": "AttributeError",
     "evalue": "'NoneType' object has no attribute 'group'",
     "output_type": "error",
     "traceback": [
      "\u001b[0;31m---------------------------------------------------------------------------\u001b[0m",
      "\u001b[0;31mAttributeError\u001b[0m                            Traceback (most recent call last)",
      "Cell \u001b[0;32mIn[6], line 1\u001b[0m\n\u001b[0;32m----> 1\u001b[0m gradU_sample1 \u001b[39m=\u001b[39m foam\u001b[39m.\u001b[39;49mread_vector_field(\u001b[39m'\u001b[39;49m\u001b[39mresults_ensemble/sample_0/1/grad(U)\u001b[39;49m\u001b[39m'\u001b[39;49m)\n\u001b[1;32m      2\u001b[0m gradU_sample2 \u001b[39m=\u001b[39m foam\u001b[39m.\u001b[39mread_vector_field(\u001b[39m'\u001b[39m\u001b[39mresults_ensemble/sample_1/1/grad(U)\u001b[39m\u001b[39m'\u001b[39m)\n",
      "File \u001b[0;32m/usr/local/lib/python3.10/dist-packages/dafi/random_field/foam_utilities.py:318\u001b[0m, in \u001b[0;36mread_vector_field\u001b[0;34m(file, group)\u001b[0m\n\u001b[1;32m    313\u001b[0m \u001b[39mdef\u001b[39;00m \u001b[39mread_vector_field\u001b[39m(file, group\u001b[39m=\u001b[39m\u001b[39m'\u001b[39m\u001b[39minternalField\u001b[39m\u001b[39m'\u001b[39m):\n\u001b[1;32m    314\u001b[0m \u001b[39m    \u001b[39m\u001b[39m\"\"\" Read an OpenFOAM vector field file.\u001b[39;00m\n\u001b[1;32m    315\u001b[0m \n\u001b[1;32m    316\u001b[0m \u001b[39m    See :py:meth:`read_field` for more information.\u001b[39;00m\n\u001b[1;32m    317\u001b[0m \u001b[39m    \"\"\"\u001b[39;00m\n\u001b[0;32m--> 318\u001b[0m     \u001b[39mreturn\u001b[39;00m read_field(file, NDIM[\u001b[39m'\u001b[39;49m\u001b[39mvector\u001b[39;49m\u001b[39m'\u001b[39;49m], group\u001b[39m=\u001b[39;49mgroup)\n",
      "File \u001b[0;32m/usr/local/lib/python3.10/dist-packages/dafi/random_field/foam_utilities.py:295\u001b[0m, in \u001b[0;36mread_field\u001b[0;34m(file, ndim, group)\u001b[0m\n\u001b[1;32m    293\u001b[0m \u001b[39m# extract data\u001b[39;00m\n\u001b[1;32m    294\u001b[0m pattern \u001b[39m=\u001b[39m \u001b[39mr\u001b[39m\u001b[39m'\u001b[39m\u001b[39m\\\u001b[39m\u001b[39m(\u001b[39m\u001b[39m\\\u001b[39m\u001b[39mn\u001b[39m\u001b[39m'\u001b[39m \u001b[39m+\u001b[39m data_structure \u001b[39m+\u001b[39m \u001b[39mr\u001b[39m\u001b[39m'\u001b[39m\u001b[39m\\\u001b[39m\u001b[39m)\u001b[39m\u001b[39m'\u001b[39m\n\u001b[0;32m--> 295\u001b[0m data_str \u001b[39m=\u001b[39m re\u001b[39m.\u001b[39;49mcompile(pattern)\u001b[39m.\u001b[39;49msearch(content)\u001b[39m.\u001b[39;49mgroup()\n\u001b[1;32m    296\u001b[0m \u001b[39m# convert to numpy array\u001b[39;00m\n\u001b[1;32m    297\u001b[0m data_str \u001b[39m=\u001b[39m data_str\u001b[39m.\u001b[39mreplace(\u001b[39m'\u001b[39m\u001b[39m(\u001b[39m\u001b[39m'\u001b[39m, \u001b[39m'\u001b[39m\u001b[39m'\u001b[39m)\u001b[39m.\u001b[39mreplace(\u001b[39m'\u001b[39m\u001b[39m)\u001b[39m\u001b[39m'\u001b[39m, \u001b[39m'\u001b[39m\u001b[39m'\u001b[39m)\u001b[39m.\u001b[39mreplace(\u001b[39m'\u001b[39m\u001b[39m\\n\u001b[39;00m\u001b[39m'\u001b[39m, \u001b[39m'\u001b[39m\u001b[39m \u001b[39m\u001b[39m'\u001b[39m)\n",
      "\u001b[0;31mAttributeError\u001b[0m: 'NoneType' object has no attribute 'group'"
     ]
    }
   ],
   "source": [
    "gradU_sample1 = foam.read_vector_field('results_ensemble/sample_0/1/grad(U)')\n",
    "gradU_sample2 = foam.read_vector_field('results_ensemble/sample_1/1/grad(U)')"
   ]
  }
 ],
 "metadata": {
  "kernelspec": {
   "display_name": "Python 3",
   "language": "python",
   "name": "python3"
  },
  "language_info": {
   "codemirror_mode": {
    "name": "ipython",
    "version": 3
   },
   "file_extension": ".py",
   "mimetype": "text/x-python",
   "name": "python",
   "nbconvert_exporter": "python",
   "pygments_lexer": "ipython3",
   "version": "3.10.6"
  },
  "orig_nbformat": 4
 },
 "nbformat": 4,
 "nbformat_minor": 2
}
